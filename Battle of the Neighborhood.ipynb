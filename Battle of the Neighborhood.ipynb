{
    "cells": [
        {
            "cell_type": "markdown",
            "metadata": {
                "collapsed": true
            },
            "source": "# Battle of the Neighborhoods - Cities NY & Toronto"
        },
        {
            "cell_type": "markdown",
            "metadata": {},
            "source": "#  Introduction and Business Problem Statement\n\n   IT companies world-wide continue to face the challenge of shortages in skilled \n   and productive Data Scientists to be deployed for AI, Machine Learning, & Deep \n   Learning related projects that can truly deliver technology \n   driven business value to enterprises and institutions globally. \n\n   To address this challenge some large IT  companies have established Data Science \n   and Cognitive Computing Centers in major cities in India and continuing to\n   hire hundreds of new graduates to be on-boarded in  each of these overseas centers.\n\n   One of the core requirements of the induction and Base level training program \n   for the newly hired Data Scientists is to be able to bring them to the Large Strategic \n   Training Centers in North America for a period of 6 months to enable the smooth delivery\n   of domain and technology training. Management has come to recognize that most of the \n   Data Scientists from India are vegans and require suitable and quality \n   living environment while they are in North America for their 6 months training. \n   Its important that their  specific requirements with regards to food and other aspects \n   of Vegans lifestyles are respected and enabled to ensure optimum learning and skills \n   acquisition by the new Data Scientists.\n\n   IT companies face the \"Business Problem\" of helping the new Data Scientists in a \n   logical  manner with their choice of either to live in NY or Toronto which are the \n   two major training centers in North America. It is envisaged that relevant recommendations \n   capturing the core features (i.e Vegan restaurants,&  Community Centers ) \n   of the 2 cities with respect to Vegans Lifestyle would be very helpful for the new-hires.\n\n   Alternatively the problem statement can be captured by the Question below...\n\n   \" How can IT companies help their overseas Vegan staff to choose between which \n   Neighborhoods in NY / Toronto to live during their 6-months training ? \"\n\n   The core objective of this Data Science project is to conduct a neighborhood \n   comparative analysis for NY and Toronto with specific emphasis on the 2 lifestyle \n   features of \"Eating Places/restaurants\" and \"Community/Social \n   Centers\" and enable relevant & valuable recommendations about the City."
        },
        {
            "cell_type": "markdown",
            "metadata": {},
            "source": "### Data Sources for the Project\nThe following trusted data sources will be used to conduct Data exploration and other forms \n of data analysis as part of the methodology for the project.\n\n 1) NY Neighborhood Data - https://ibm.box.com/shared/static/fbpwbovar7lf8p5sgddm06cgipa2rxpe.json &  https://geo.nyu.edu/catalog/nyu_2451_34572\n\n 2) Toronto Neighborhood Data - 'https://en.wikipedia.org/wiki/List_of_postal_codes_of_Canada:_M'\n\n 3) Foursquare Location Data (Venues [Restaurants, Community Centers], TOP tips, \n Favorites, User Experience, etc) will be used to cluster, segment, target, and \n position to craft recommendations for the vegans end-user community.\n\nUsing the data available in the above 3 trusted sources, I will be conducting clustering and neighborhood based analysis leveraging primarily Foursquare APIs and tools such as KNN and relevant unsupervised learning methods to deliver recommendations options to the target user community primarily comprising of the newly hired vegans.\n\nPls see below some relevant examples of tailored data that will benefit the vegans and enable them to make meaningful decisions whether to live in NY or Toronto and in which TOP 5 Neighborhoods within each of the cities.\n\n1) There are many vegan eating places in NY with the top rating being 9.3 for abcV Restaurant.\n\n2) Similarly there are a large number of vegan eating places in Toronto with 'Fresh on Bar\" scoring 9.0.\n\n3) There are also tens of Neighborhoods in both cities that truly deliver pristine eating and relaxing environment for vegans.\n\n4) Leveraging the recommender systems capabilities enabled by Foursquare to conduct compare / contrast the data points to derive the recommendations.\n\nLet me also provide below the specific steps that will be deployed to work with the data derived from Foursqaure and the approach will cover both Toronto and NY and also the category of \"Vegan Community Centers\"\n\nA) Search for a specific venue = \"Vegan Restaurant\"\n\nB) Perform the GET Request and examine the results for Vegan eating places\n\nC) Get relevant part of JSON and transform it into a pandas dataframe & review the data for patterns and obvious insights\n\nD) Explore Venues (= Vegan related) with Rating of 8.5 (out of 10) or more\n\nE) Get the number of tips for each Venue and focus on what could be a source of valuable information for the Data Scientists (new-hires)\n\nF) Gather frequent user feedback and comments\n\nG) Narrow down the venues and the associated neighborhoods for each city that can form the set of recommendations"
        },
        {
            "cell_type": "markdown",
            "metadata": {},
            "source": "### Methodology \n\nThe methodology employed is aligned with the Data Science 10 steps program that was discussed during an earlier module of thecourse. Let me outline below the core areas of focus and tasks performed as part of the methodology to address the problem of \"helping the Vegans\" for make the right choice regarding their training centers in NY and Toronto.\n\na) Obtain relevant vegan places data from Foursquare and clean it for data understanding and grouping etc.\n\nb) Explore the data for clusters & patterns of Neighborhoods in Boroughs\n\nc) Group the places of high interest into relevant neighborhood and Borough pairings\n\nd) Generate the markers on both NY & Toronto maps to highlight the neighborhoods that are in focus.\n\ne) Use Foursquare venue, Categories etc to enable the profiling the primary & focus neighborhoods.\n\nf) Generate the short-listed neighborhoods for both NY & Toronto"
        },
        {
            "cell_type": "markdown",
            "metadata": {},
            "source": "### Results \nIt was pleasing to see that there were specific neighborhoods that truly catered for Vegans and have gained high levels of reputation for Vegan friendly services and customer care.\n\n distance     lat     lng\n\ncount 21.000000 21.000000 21.000000\n\nmean 2684.619048 40.723486 -73.981004\n\nstd 1521.057707 0.021737 0.020660\n\nmin 419.000000 40.686385 -74.003549\n\n25% 1410.000000 40.708548 -73.997781\n\n50% 2051.000000 40.722776 -73.988871\n\n75% 4218.000000 40.742073 -73.969612\n\nmax 4961.000000 40.762475 -73.940813"
        },
        {
            "cell_type": "markdown",
            "metadata": {},
            "source": "#  Summary stats for the 2 cities with relevance to Vegans.\n0 Urban Vegan Kitchen\n\n1 Happy Zoe Vegan Bakery\n\n2 Vegan Love\n\n3 Body & Soul Seasonal Vegan Bakery\n\n4 vegan caffe\n\n5 Wild Ginger Pan-Asian Vegan Cuisine\n\n6 Red Bamboo\n\n7 Franchia\n\n8 Vita - Vegan Paradise\n\n9 The Seed: A Vegan Experience HQ\n\n10 monk's vegan smoke house\n\n11 Miami's Original Vegan Food Truck\n\n12 Wii Fit Gym ~ Vegan Central\n\n13 Marty's Vegan Fast Foods\n\n14 Wildflower Vegan Pop-up Restaurant\n\n15 Wild Ginger Vegetarian Kitchen\n\n16 Ginger Root Vegan Restaurant\n\n17 American Vegan\n\n18 Vegan Car Charge\n\n19 Blossom Restaurant\n\n20 Champs\n\n21 Blossom Du Jour\n\n22 vegan divas\n\n23 Spread Vegan\n\n24 Try Vegan\n\n25 Luanne's Wild Ginger All Asian Vegan\n\n26 Tea NJ \"Vegan Friendly Cafe\"\n\n27 Veganlunchtruck\n\n28 Wild Ginger\n\n29 Betty Bakery"
        },
        {
            "cell_type": "markdown",
            "metadata": {},
            "source": "# Here is the Final short-list of neighborhoods for Vegans in NY"
        },
        {
            "cell_type": "markdown",
            "metadata": {},
            "source": "# Neighborhoods\nChelsea and Clinton 6\n\nGramercy Park and Murray Hill 1\n\nGreenpoint 2\n\nGreenwich Village and Soho 5\n\nLower East Side 2\n\nNorthwest Brooklyn 3\n\nUpper East Side 1"
        },
        {
            "cell_type": "markdown",
            "metadata": {},
            "source": "#### It was clear that Greenwich, Chelsea, and Northwest were highly favored for Vegans in NY"
        },
        {
            "cell_type": "markdown",
            "metadata": {},
            "source": "## Let me now summarize the findings for Toronto\n distance     lat     lng\n\ncount 6.000000 6.000000 6.000000\n\nmean 3568.000000 43.655054 -79.412860\n\nstd 1073.910983 0.014329 0.036726\n\nmin 1496.000000 43.641630 -79.434698\n\n25% 3737.250000 43.643772 -79.432450\n\n50% 3819.000000 43.653320 -79.431652\n\n75% 3871.500000 43.659644 -79.411746\n\nmax 4675.000000 43.679713 -79.341331"
        },
        {
            "cell_type": "markdown",
            "metadata": {},
            "source": "### Get the TOP 3 Vegan Places"
        },
        {
            "cell_type": "markdown",
            "metadata": {},
            "source": "#### Neighborhood\nBloorcourt 1\n\nEast Toronto 1\n\nKensington Market 1\n\nParkdale Village 3"
        },
        {
            "cell_type": "markdown",
            "metadata": {},
            "source": "#### It was clear that Parkdale Village is highly favored for Vegans in Toronto"
        },
        {
            "cell_type": "markdown",
            "metadata": {},
            "source": "### Discussion \nWhile this project was able to derive specific recommendations in terms of places to live in NY & Toronto for Vegans, it has limitations given that the assumptions for the model are simplistic in nature. The main variable of focus was only Food & Leisure where as Vegans may be interested in a number of other amenities and interests that will make it a multi-variable focused data science analysis. From my perspective the project has afforded me a tremendous opportunity to explore and apply most of the knowledge and insights gained during the previous 8 modules of this course."
        },
        {
            "cell_type": "markdown",
            "metadata": {},
            "source": "## Summary & Conclusion \nIt is very evident that a Data Scientist will need to establish clarity and crisply identify the \"Business Problem\" or\"Idea of Research\" that he/she is undertaking and be able to articulate clearly the value being delivered to the beneficiaries / stakeholders / end-users etc.\n\nOnce the Business Problem / Idea has been confirmed, its also equally important to explore / research for the trusteddata sources that can be leveraged to undertake the Data Science framework based problem solving.\n\nNext comes the critical step of choosing the methods (Unsupervised or Supervised and within each of them the specific methods for machine learning / model dev't and training etc ) for data analysis/mining/patterns recognition etc...\n\nIt is also vital that relevant presentation and visualization techniques are used to share and present the findings to the project sponsor / stakeholders / end-users etc. It may be also appropriate to comment any future work that may be valuable to augment the solution and enrich it."
        }
    ],
    "metadata": {
        "kernelspec": {
            "display_name": "Python 3.6",
            "language": "python",
            "name": "python3"
        },
        "language_info": {
            "codemirror_mode": {
                "name": "ipython",
                "version": 3
            },
            "file_extension": ".py",
            "mimetype": "text/x-python",
            "name": "python",
            "nbconvert_exporter": "python",
            "pygments_lexer": "ipython3",
            "version": "3.6.8"
        }
    },
    "nbformat": 4,
    "nbformat_minor": 1
}