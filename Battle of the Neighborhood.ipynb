{
    "cells": [
        {
            "cell_type": "markdown",
            "metadata": {
                "collapsed": true
            },
            "source": "# Battle of the Neighborhoods - Cities NY & Toronto"
        },
        {
            "cell_type": "markdown",
            "metadata": {},
            "source": "#  Introduction and Business Problem Statement\n\n   IT companies world-wide continue to face the challenge of shortages in skilled \n   and productive Data Scientists to be deployed for AI, Machine Learning, & Deep \n   Learning related projects that can truly deliver technology \n   driven business value to enterprises and institutions globally. \n\n   To address this challenge some large IT  companies have established Data Science \n   and Cognitive Computing Centers in major cities in India and continuing to\n   hire hundreds of new graduates to be on-boarded in  each of these overseas centers.\n\n   One of the core requirements of the induction and Base level training program \n   for the newly hired Data Scientists is to be able to bring them to the Large Strategic \n   Training Centers in North America for a period of 6 months to enable the smooth delivery\n   of domain and technology training. Management has come to recognize that most of the \n   Data Scientists from India are vegans and require suitable and quality \n   living environment while they are in North America for their 6 months training. \n   Its important that their  specific requirements with regards to food and other aspects \n   of Vegans lifestyles are respected and enabled to ensure optimum learning and skills \n   acquisition by the new Data Scientists.\n\n   IT companies face the \"Business Problem\" of helping the new Data Scientists in a \n   logical  manner with their choice of either to live in NY or Toronto which are the \n   two major training centers in North America. It is envisaged that relevant recommendations \n   capturing the core features (i.e Vegan restaurants,&  Community Centers ) \n   of the 2 cities with respect to Vegans Lifestyle would be very helpful for the new-hires.\n\n   Alternatively the problem statement can be captured by the Question below...\n\n   \" How can IT companies help their overseas Vegan staff to choose between which \n   Neighborhoods in NY / Toronto to live during their 6-months training ? \"\n\n   The core objective of this Data Science project is to conduct a neighborhood \n   comparative analysis for NY and Toronto with specific emphasis on the 2 lifestyle \n   features of \"Eating Places/restaurants\" and \"Community/Social \n   Centers\" and enable relevant & valuable recommendations about the City."
        },
        {
            "cell_type": "markdown",
            "metadata": {},
            "source": "### Data Sources for the Project\nThe following trusted data sources will be used to conduct Data exploration and other forms \n of data analysis as part of the methodology for the project.\n\n 1) NY Neighborhood Data - https://ibm.box.com/shared/static/fbpwbovar7lf8p5sgddm06cgipa2rxpe.json &  https://geo.nyu.edu/catalog/nyu_2451_34572\n\n 2) Toronto Neighborhood Data - 'https://en.wikipedia.org/wiki/List_of_postal_codes_of_Canada:_M'\n\n 3) Foursquare Location Data (Venues [Restaurants, Community Centers], TOP tips, \n Favorites, User Experience, etc) will be used to cluster, segment, target, and \n position to craft recommendations for the vegans end-user community.\n\nUsing the data available in the above 3 trusted sources, I will be conducting clustering and neighborhood based analysis leveraging primarily Foursquare APIs and tools such as KNN and relevant unsupervised learning methods to deliver recommendations options to the target user community primarily comprising of the newly hired vegans.\n\nPls see below some relevant examples of tailored data that will benefit the vegans and enable them to make meaningful decisions whether to live in NY or Toronto and in which TOP 5 Neighborhoods within each of the cities.\n\n1) There are many vegan eating places in NY with the top rating being 9.3 for abcV Restaurant.\n\n2) Similarly there are a large number of vegan eating places in Toronto with 'Fresh on Bar\" scoring 9.0.\n\n3) There are also tens of Neighborhoods in both cities that truly deliver pristine eating and relaxing environment for vegans.\n\n4) Leveraging the recommender systems capabilities enabled by Foursquare to conduct compare / contrast the data points to derive the recommendations.\n\nLet me also provide below the specific steps that will be deployed to work with the data derived from Foursqaure and the approach will cover both Toronto and NY and also the category of \"Vegan Community Centers\"\n\nA) Search for a specific venue = \"Vegan Restaurant\"\n\nB) Perform the GET Request and examine the results for Vegan eating places\n\nC) Get relevant part of JSON and transform it into a pandas dataframe & review the data for patterns and obvious insights\n\nD) Explore Venues (= Vegan related) with Rating of 8.5 (out of 10) or more\n\nE) Get the number of tips for each Venue and focus on what could be a source of valuable information for the Data Scientists (new-hires)\n\nF) Gather frequent user feedback and comments\n\nG) Narrow down the venues and the associated neighborhoods for each city that can form the set of recommendations"
        },
        {
            "cell_type": "code",
            "execution_count": null,
            "metadata": {},
            "outputs": [],
            "source": ""
        }
    ],
    "metadata": {
        "kernelspec": {
            "display_name": "Python 3.6",
            "language": "python",
            "name": "python3"
        },
        "language_info": {
            "codemirror_mode": {
                "name": "ipython",
                "version": 3
            },
            "file_extension": ".py",
            "mimetype": "text/x-python",
            "name": "python",
            "nbconvert_exporter": "python",
            "pygments_lexer": "ipython3",
            "version": "3.6.8"
        }
    },
    "nbformat": 4,
    "nbformat_minor": 1
}